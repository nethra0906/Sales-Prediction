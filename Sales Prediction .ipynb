{
 "cells": [
  {
   "cell_type": "markdown",
   "id": "485d469a",
   "metadata": {},
   "source": [
    "# Loading Data & Ananlysis"
   ]
  },
  {
   "cell_type": "code",
   "execution_count": 3,
   "id": "b06af711",
   "metadata": {},
   "outputs": [],
   "source": [
    "import numpy as np\n",
    "import pandas as pd\n",
    "import seaborn as sns\n",
    "import matplotlib.pyplot as plt"
   ]
  },
  {
   "cell_type": "code",
   "execution_count": 4,
   "id": "240297c9",
   "metadata": {},
   "outputs": [],
   "source": [
    "df=pd.read_csv(r\"C:\\Users\\Nethr\\Data Science Projects\\train.csv\")\n",
    "df1=pd.read_csv(r\"C:\\Users\\Nethr\\Data Science Projects\\test.csv\")"
   ]
  },
  {
   "cell_type": "code",
   "execution_count": 5,
   "id": "6f53519c",
   "metadata": {},
   "outputs": [
    {
     "name": "stdout",
     "output_type": "stream",
     "text": [
      "(8523, 12) (5681, 11)\n"
     ]
    }
   ],
   "source": [
    "print(df.shape,df1.shape)"
   ]
  },
  {
   "cell_type": "code",
   "execution_count": 6,
   "id": "2182f99a",
   "metadata": {},
   "outputs": [
    {
     "name": "stdout",
     "output_type": "stream",
     "text": [
      "       Item_Weight  Item_Visibility     Item_MRP  Outlet_Establishment_Year  \\\n",
      "count  7060.000000      8523.000000  8523.000000                8523.000000   \n",
      "mean     12.857645         0.066132   140.992782                1997.831867   \n",
      "std       4.643456         0.051598    62.275067                   8.371760   \n",
      "min       4.555000         0.000000    31.290000                1985.000000   \n",
      "25%       8.773750         0.026989    93.826500                1987.000000   \n",
      "50%      12.600000         0.053931   143.012800                1999.000000   \n",
      "75%      16.850000         0.094585   185.643700                2004.000000   \n",
      "max      21.350000         0.328391   266.888400                2009.000000   \n",
      "\n",
      "       Item_Outlet_Sales  \n",
      "count        8523.000000  \n",
      "mean         2181.288914  \n",
      "std          1706.499616  \n",
      "min            33.290000  \n",
      "25%           834.247400  \n",
      "50%          1794.331000  \n",
      "75%          3101.296400  \n",
      "max         13086.964800  \n"
     ]
    }
   ],
   "source": [
    "print(df.describe())"
   ]
  },
  {
   "cell_type": "code",
   "execution_count": 7,
   "id": "aa50a626",
   "metadata": {},
   "outputs": [
    {
     "name": "stdout",
     "output_type": "stream",
     "text": [
      "       Item_Weight  Item_Visibility     Item_MRP  Outlet_Establishment_Year\n",
      "count  4705.000000      5681.000000  5681.000000                5681.000000\n",
      "mean     12.695633         0.065684   141.023273                1997.828903\n",
      "std       4.664849         0.051252    61.809091                   8.372256\n",
      "min       4.555000         0.000000    31.990000                1985.000000\n",
      "25%       8.645000         0.027047    94.412000                1987.000000\n",
      "50%      12.500000         0.054154   141.415400                1999.000000\n",
      "75%      16.700000         0.093463   186.026600                2004.000000\n",
      "max      21.350000         0.323637   266.588400                2009.000000\n"
     ]
    }
   ],
   "source": [
    "print(df1.describe())"
   ]
  },
  {
   "cell_type": "code",
   "execution_count": 8,
   "id": "61b5f480",
   "metadata": {},
   "outputs": [
    {
     "name": "stdout",
     "output_type": "stream",
     "text": [
      "<class 'pandas.core.frame.DataFrame'>\n",
      "RangeIndex: 8523 entries, 0 to 8522\n",
      "Data columns (total 12 columns):\n",
      " #   Column                     Non-Null Count  Dtype  \n",
      "---  ------                     --------------  -----  \n",
      " 0   Item_Identifier            8523 non-null   object \n",
      " 1   Item_Weight                7060 non-null   float64\n",
      " 2   Item_Fat_Content           8523 non-null   object \n",
      " 3   Item_Visibility            8523 non-null   float64\n",
      " 4   Item_Type                  8523 non-null   object \n",
      " 5   Item_MRP                   8523 non-null   float64\n",
      " 6   Outlet_Identifier          8523 non-null   object \n",
      " 7   Outlet_Establishment_Year  8523 non-null   int64  \n",
      " 8   Outlet_Size                6113 non-null   object \n",
      " 9   Outlet_Location_Type       8523 non-null   object \n",
      " 10  Outlet_Type                8523 non-null   object \n",
      " 11  Item_Outlet_Sales          8523 non-null   float64\n",
      "dtypes: float64(4), int64(1), object(7)\n",
      "memory usage: 799.2+ KB\n",
      "None\n"
     ]
    }
   ],
   "source": [
    "print(df.info())"
   ]
  },
  {
   "cell_type": "code",
   "execution_count": 9,
   "id": "a226658a",
   "metadata": {},
   "outputs": [
    {
     "name": "stdout",
     "output_type": "stream",
     "text": [
      "<class 'pandas.core.frame.DataFrame'>\n",
      "RangeIndex: 8523 entries, 0 to 8522\n",
      "Data columns (total 12 columns):\n",
      " #   Column                     Non-Null Count  Dtype  \n",
      "---  ------                     --------------  -----  \n",
      " 0   Item_Identifier            8523 non-null   object \n",
      " 1   Item_Weight                7060 non-null   float64\n",
      " 2   Item_Fat_Content           8523 non-null   object \n",
      " 3   Item_Visibility            8523 non-null   float64\n",
      " 4   Item_Type                  8523 non-null   object \n",
      " 5   Item_MRP                   8523 non-null   float64\n",
      " 6   Outlet_Identifier          8523 non-null   object \n",
      " 7   Outlet_Establishment_Year  8523 non-null   int64  \n",
      " 8   Outlet_Size                6113 non-null   object \n",
      " 9   Outlet_Location_Type       8523 non-null   object \n",
      " 10  Outlet_Type                8523 non-null   object \n",
      " 11  Item_Outlet_Sales          8523 non-null   float64\n",
      "dtypes: float64(4), int64(1), object(7)\n",
      "memory usage: 799.2+ KB\n",
      "None\n"
     ]
    }
   ],
   "source": [
    "print(df.info())"
   ]
  },
  {
   "cell_type": "markdown",
   "id": "73f1e892",
   "metadata": {},
   "source": [
    "# Filling null values & numerical values "
   ]
  },
  {
   "cell_type": "code",
   "execution_count": 10,
   "id": "cbcc6dae",
   "metadata": {},
   "outputs": [],
   "source": [
    "df=df.drop(['Item_Identifier','Outlet_Identifier'],axis=1)"
   ]
  },
  {
   "cell_type": "code",
   "execution_count": 38,
   "id": "199e0f39",
   "metadata": {},
   "outputs": [
    {
     "name": "stdout",
     "output_type": "stream",
     "text": [
      "Item_Weight                  0.0\n",
      "Item_Fat_Content             0.0\n",
      "Item_Visibility              0.0\n",
      "Item_Type                    0.0\n",
      "Item_MRP                     0.0\n",
      "Outlet_Establishment_Year    0.0\n",
      "Outlet_Size                  0.0\n",
      "Outlet_Location_Type         0.0\n",
      "Outlet_Type                  0.0\n",
      "Item_Outlet_Sales            0.0\n",
      "dtype: float64\n"
     ]
    }
   ],
   "source": [
    "print(df.isnull().mean()*100) #calculate the percentage of missing values in each column of the DataFrame "
   ]
  },
  {
   "cell_type": "code",
   "execution_count": 39,
   "id": "0d87c01d",
   "metadata": {},
   "outputs": [
    {
     "name": "stdout",
     "output_type": "stream",
     "text": [
      "Item_Weight                  0.0\n",
      "Item_Fat_Content             0.0\n",
      "Item_Visibility              0.0\n",
      "Item_Type                    0.0\n",
      "Item_MRP                     0.0\n",
      "Outlet_Establishment_Year    0.0\n",
      "Outlet_Size                  0.0\n",
      "Outlet_Location_Type         0.0\n",
      "Outlet_Type                  0.0\n",
      "dtype: float64\n"
     ]
    }
   ],
   "source": [
    "print(df1.isnull().mean()*100) #calculate the percentage of missing values in each column of the DataFrame "
   ]
  },
  {
   "cell_type": "code",
   "execution_count": 40,
   "id": "46622aff",
   "metadata": {},
   "outputs": [
    {
     "name": "stdout",
     "output_type": "stream",
     "text": [
      "12.857645184135976\n"
     ]
    }
   ],
   "source": [
    "print(df['Item_Weight'].mean()) #calculate the mean of that column "
   ]
  },
  {
   "cell_type": "code",
   "execution_count": 41,
   "id": "b46ffea1",
   "metadata": {},
   "outputs": [
    {
     "name": "stdout",
     "output_type": "stream",
     "text": [
      "12.69563336875664\n"
     ]
    }
   ],
   "source": [
    "print(df1['Item_Weight'].mean()) #calculate the mean of that column"
   ]
  },
  {
   "cell_type": "code",
   "execution_count": 42,
   "id": "7b49bcfa",
   "metadata": {},
   "outputs": [
    {
     "name": "stdout",
     "output_type": "stream",
     "text": [
      "Item_Weight                  0\n",
      "Item_Fat_Content             0\n",
      "Item_Visibility              0\n",
      "Item_Type                    0\n",
      "Item_MRP                     0\n",
      "Outlet_Establishment_Year    0\n",
      "Outlet_Size                  0\n",
      "Outlet_Location_Type         0\n",
      "Outlet_Type                  0\n",
      "Item_Outlet_Sales            0\n",
      "dtype: int64\n"
     ]
    }
   ],
   "source": [
    "df['Item_Weight']=df['Item_Weight'].fillna(df['Item_Weight'].mean()) #used to replace missing values in the 'Item_Weight' column of the DataFrame 'df' with the mean of the existing values in that column.\n",
    "print(df.isnull().sum())"
   ]
  },
  {
   "cell_type": "code",
   "execution_count": 43,
   "id": "740d3c17",
   "metadata": {},
   "outputs": [
    {
     "name": "stdout",
     "output_type": "stream",
     "text": [
      "Item_Weight                  0\n",
      "Item_Fat_Content             0\n",
      "Item_Visibility              0\n",
      "Item_Type                    0\n",
      "Item_MRP                     0\n",
      "Outlet_Establishment_Year    0\n",
      "Outlet_Size                  0\n",
      "Outlet_Location_Type         0\n",
      "Outlet_Type                  0\n",
      "dtype: int64\n"
     ]
    }
   ],
   "source": [
    "df1['Item_Weight']=df1['Item_Weight'].fillna(df1['Item_Weight'].mean()) #used to replace missing values in the 'Item_Weight' column of the DataFrame 'df1' with the mean of the existing values in that column.\n",
    "print(df1.isnull().sum())"
   ]
  },
  {
   "cell_type": "code",
   "execution_count": 44,
   "id": "3dee29a8",
   "metadata": {},
   "outputs": [
    {
     "name": "stdout",
     "output_type": "stream",
     "text": [
      "1\n"
     ]
    }
   ],
   "source": [
    "print(df['Outlet_Size'].mode()[0])  #used to print the most frequently occurring value in the 'Outlet_Size' column of the DataFrame df."
   ]
  },
  {
   "cell_type": "code",
   "execution_count": 46,
   "id": "acf4734d",
   "metadata": {},
   "outputs": [
    {
     "name": "stdout",
     "output_type": "stream",
     "text": [
      "Medium\n"
     ]
    }
   ],
   "source": [
    "print(df1['Outlet_Size'].mode()[0]) # used to print the most frequently occurring value in the 'Outlet_Size' column of the DataFrame df1."
   ]
  },
  {
   "cell_type": "code",
   "execution_count": 47,
   "id": "ab09f983",
   "metadata": {},
   "outputs": [],
   "source": [
    "df['Outlet_Size']=df['Outlet_Size'].fillna(df['Outlet_Size'].mode()[0])"
   ]
  },
  {
   "cell_type": "code",
   "execution_count": 48,
   "id": "3da7649a",
   "metadata": {},
   "outputs": [],
   "source": [
    "df1['Outlet_Size']=df1['Outlet_Size'].fillna(df1['Outlet_Size'].mode()[0])"
   ]
  },
  {
   "cell_type": "markdown",
   "id": "6f5d63d4",
   "metadata": {},
   "source": [
    "# Providing Labels "
   ]
  },
  {
   "cell_type": "code",
   "execution_count": 21,
   "id": "e3331938",
   "metadata": {},
   "outputs": [],
   "source": [
    "df1=df1.drop(['Item_Identifier','Outlet_Identifier'],axis=1)"
   ]
  },
  {
   "cell_type": "code",
   "execution_count": 30,
   "id": "cf0e133f",
   "metadata": {},
   "outputs": [
    {
     "name": "stdout",
     "output_type": "stream",
     "text": [
      "Item_Fat_Content\n",
      "0    5517\n",
      "1    3006\n",
      "Name: count, dtype: int64\n"
     ]
    }
   ],
   "source": [
    "df.replace({'Item_Fat_Content': {'low fat':'Low Fat','LF':'Low Fat','reg':'Regular'}},inplace=True)\n",
    "print(df['Item_Fat_Content'].value_counts())"
   ]
  },
  {
   "cell_type": "code",
   "execution_count": 31,
   "id": "fa0eadd0",
   "metadata": {},
   "outputs": [],
   "source": [
    "from sklearn.preprocessing import LabelEncoder\n",
    "le=LabelEncoder()\n",
    "df['Item_Fat_Content']=le.fit_transform(df['Item_Fat_Content'])\n",
    "df['Item_Type']=le.fit_transform(df['Item_Type'])\n",
    "df['Outlet_Size']=le.fit_transform(df['Outlet_Size'])\n",
    "df['Outlet_Location_Type']=le.fit_transform(df['Outlet_Location_Type'])\n",
    "df['Outlet_Type']=le.fit_transform(df['Outlet_Type'])"
   ]
  },
  {
   "cell_type": "markdown",
   "id": "f013748d",
   "metadata": {},
   "source": [
    "# Making the model"
   ]
  },
  {
   "cell_type": "code",
   "execution_count": 32,
   "id": "5df04968",
   "metadata": {},
   "outputs": [],
   "source": [
    "\n",
    "from sklearn.model_selection import train_test_split\n",
    "\n",
    "X_train, X_test, Y_train, Y_test = train_test_split(df,df['Item_Outlet_Sales'], random_state=101, test_size=0.2)"
   ]
  },
  {
   "cell_type": "code",
   "execution_count": 33,
   "id": "8aa7d1ae",
   "metadata": {},
   "outputs": [
    {
     "name": "stdout",
     "output_type": "stream",
     "text": [
      "[[ 1.52290029 -0.74155088  0.68469729 ...  1.08786619 -0.25964107\n",
      "  -1.18375408]\n",
      " [-1.23985603 -0.74155088 -0.09514748 ... -0.13870429 -0.25964107\n",
      "  -0.34430954]\n",
      " [ 1.54667616  1.34852514 -0.00838589 ... -0.13870429 -0.25964107\n",
      "  -0.4008404 ]\n",
      " ...\n",
      " [-0.08197107 -0.74155088 -0.9191623  ... -1.36527477 -0.25964107\n",
      "  -0.0182891 ]\n",
      " [-0.74888428  1.34852514  1.21363058 ... -0.13870429 -0.25964107\n",
      "   0.29146904]\n",
      " [ 0.67885683 -0.74155088  1.83915356 ...  1.08786619  0.98524841\n",
      "  -0.79655641]]\n",
      "[[-0.43860915 -0.74155088 -0.21609255 ...  1.08786619  0.98524841\n",
      "  -0.75280308]\n",
      " [ 1.22570189 -0.74155088 -0.52943461 ...  1.08786619 -0.25964107\n",
      "   0.3468383 ]\n",
      " [-1.21845775  1.34852514  0.16277342 ... -1.36527477 -0.25964107\n",
      "  -0.14645153]\n",
      " ...\n",
      " [ 0.65508096 -0.74155088  0.87824237 ...  1.08786619 -1.50453056\n",
      "  -1.06372281]\n",
      " [ 1.01171904 -0.74155088 -1.28409256 ...  1.08786619  0.98524841\n",
      "  -0.48912146]\n",
      " [-1.56558548  1.34852514 -1.09265374 ... -0.13870429 -0.25964107\n",
      "   0.12729723]]\n",
      "------------------------------------------------------------\n",
      "3684     163.7868\n",
      "1935    1607.2412\n",
      "5142    1510.0344\n",
      "4978    1784.3440\n",
      "2299    3558.0352\n",
      "          ...    \n",
      "599     5502.8370\n",
      "5695    1436.7964\n",
      "8006    2167.8448\n",
      "1361    2700.4848\n",
      "1547     829.5868\n",
      "Name: Item_Outlet_Sales, Length: 6818, dtype: float64\n",
      "8179     904.8222\n",
      "8355    2795.6942\n",
      "3411    1947.4650\n",
      "7089     872.8638\n",
      "6954    2450.1440\n",
      "          ...    \n",
      "1317    1721.0930\n",
      "4996     914.8092\n",
      "531      370.1848\n",
      "3891    1358.2320\n",
      "6629    2418.1856\n",
      "Name: Item_Outlet_Sales, Length: 1705, dtype: float64\n"
     ]
    }
   ],
   "source": [
    "from sklearn.preprocessing import StandardScaler\n",
    "sc= StandardScaler()\n",
    "X_train_std= sc.fit_transform(X_train)  \n",
    "X_test_std= sc.transform(X_test)\n",
    "print(X_train_std)\n",
    "print(X_test_std)\n",
    "print('------------------------------------------------------------')\n",
    "print(Y_train)\n",
    "print(Y_test)"
   ]
  },
  {
   "cell_type": "markdown",
   "id": "0a4cc1a6",
   "metadata": {},
   "source": [
    "# Linear Regression & Random Forest"
   ]
  },
  {
   "cell_type": "code",
   "execution_count": 34,
   "id": "24e14b4f",
   "metadata": {},
   "outputs": [],
   "source": [
    "from sklearn.metrics import r2_score, mean_absolute_error, mean_squared_error"
   ]
  },
  {
   "cell_type": "code",
   "execution_count": 35,
   "id": "2a1dd6b4",
   "metadata": {},
   "outputs": [
    {
     "name": "stdout",
     "output_type": "stream",
     "text": [
      "1.0\n",
      "9.683343081435843e-13\n",
      "1.2226512081758337e-12\n"
     ]
    }
   ],
   "source": [
    "from sklearn.linear_model import LinearRegression\n",
    "lr= LinearRegression()\n",
    "lr.fit(X_train_std,Y_train)\n",
    "Y_pred_lr=lr.predict(X_test_std)\n",
    "r2_score(Y_test,Y_pred_lr)\n",
    "Y_pred_lr=lr.predict(X_test_std)\n",
    "r2_score(Y_test,Y_pred_lr)\n",
    "print(r2_score(Y_test,Y_pred_lr))\n",
    "print(mean_absolute_error(Y_test,Y_pred_lr))\n",
    "print(np.sqrt(mean_squared_error(Y_test,Y_pred_lr)))"
   ]
  },
  {
   "cell_type": "code",
   "execution_count": 36,
   "id": "1104c861",
   "metadata": {},
   "outputs": [
    {
     "name": "stdout",
     "output_type": "stream",
     "text": [
      "0.9999976101253865\n",
      "0.7825043917888899\n",
      "2.552112850939112\n"
     ]
    }
   ],
   "source": [
    "from sklearn.ensemble import RandomForestRegressor\n",
    "rf= RandomForestRegressor()\n",
    "rf.fit(X_train_std,Y_train)\n",
    "Y_pred_rf= rf.predict(X_test_std)\n",
    "r2_score(Y_test,Y_pred_rf)\n",
    "print(r2_score(Y_test,Y_pred_rf))\n",
    "print(mean_absolute_error(Y_test,Y_pred_rf))\n",
    "print(np.sqrt(mean_squared_error(Y_test,Y_pred_rf)))"
   ]
  }
 ],
 "metadata": {
  "kernelspec": {
   "display_name": "Python 3 (ipykernel)",
   "language": "python",
   "name": "python3"
  },
  "language_info": {
   "codemirror_mode": {
    "name": "ipython",
    "version": 3
   },
   "file_extension": ".py",
   "mimetype": "text/x-python",
   "name": "python",
   "nbconvert_exporter": "python",
   "pygments_lexer": "ipython3",
   "version": "3.11.5"
  }
 },
 "nbformat": 4,
 "nbformat_minor": 5
}
